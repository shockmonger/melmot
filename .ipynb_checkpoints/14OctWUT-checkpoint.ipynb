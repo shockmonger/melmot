{
 "cells": [
  {
   "cell_type": "code",
   "execution_count": 51,
   "metadata": {
    "collapsed": false
   },
   "outputs": [],
   "source": [
    "'''splines as feature'''\n",
    "%run functions.py\n",
    "%matplotlib notebook\n",
    "# %run dataset.py"
   ]
  },
  {
   "cell_type": "code",
   "execution_count": 74,
   "metadata": {
    "collapsed": false
   },
   "outputs": [],
   "source": [
    "tracings = os.listdir('/home/tejaswik/Documents/CurrentProjects/melmot/data/datadump/')\n",
    "for i in range(len(tracings)):\n",
    "    tracings[i] = tracings[i][:-4]\n",
    "# '''send all norm pieces to /data/normdatadump/'''\n",
    "for i in range(0,len(tracings)):\n",
    "    file_name = basefile+'data/normdatadump/'+tracings[i]+'.csv'\n",
    "    y = upsamp(tracings[i])\n",
    "    y.to_csv(file_name,sep='\\t')"
   ]
  },
  {
   "cell_type": "code",
   "execution_count": 75,
   "metadata": {
    "collapsed": false
   },
   "outputs": [
    {
     "data": {
      "text/plain": [
       "'2_30_2'"
      ]
     },
     "execution_count": 75,
     "metadata": {},
     "output_type": "execute_result"
    }
   ],
   "source": [
    "tracings[i]"
   ]
  }
 ],
 "metadata": {
  "kernelspec": {
   "display_name": "Python 2",
   "language": "python",
   "name": "python2"
  },
  "language_info": {
   "codemirror_mode": {
    "name": "ipython",
    "version": 2
   },
   "file_extension": ".py",
   "mimetype": "text/x-python",
   "name": "python",
   "nbconvert_exporter": "python",
   "pygments_lexer": "ipython2",
   "version": "2.7.12"
  }
 },
 "nbformat": 4,
 "nbformat_minor": 0
}
