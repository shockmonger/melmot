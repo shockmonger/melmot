{
 "cells": [
  {
   "cell_type": "code",
   "execution_count": 1,
   "metadata": {},
   "outputs": [
    {
     "name": "stderr",
     "output_type": "stream",
     "text": [
      "/usr/local/lib/python2.7/dist-packages/h5py/__init__.py:36: FutureWarning: Conversion of the second argument of issubdtype from `float` to `np.floating` is deprecated. In future, it will be treated as `np.float64 == np.dtype(float).type`.\n",
      "  from ._conv import register_converters as _register_converters\n",
      "Using TensorFlow backend.\n"
     ]
    }
   ],
   "source": [
    "from keras.layers import Input, Dense\n",
    "from keras.models import Model\n",
    "\n",
    "# this is the size of our encoded representations\n",
    "encoding_dim = 32  # 32 floats -> compression of factor 24.5, assuming the input is 784 floats\n",
    "\n",
    "# this is our input placeholder\n",
    "input_img = Input(shape=(784,))\n",
    "# \"encoded\" is the encoded representation of the input\n",
    "encoded = Dense(encoding_dim, activation='relu')(input_img)\n",
    "# \"decoded\" is the lossy reconstruction of the input\n",
    "decoded = Dense(784, activation='sigmoid')(encoded)\n",
    "\n",
    "# this model maps an input to its reconstruction\n",
    "autoencoder = Model(input_img, decoded)"
   ]
  },
  {
   "cell_type": "code",
   "execution_count": 5,
   "metadata": {},
   "outputs": [],
   "source": [
    "encoder = Model(input_img, encoded)"
   ]
  },
  {
   "cell_type": "code",
   "execution_count": 6,
   "metadata": {},
   "outputs": [],
   "source": [
    "# create a placeholder for an encoded (32-dimensional) input\n",
    "encoded_input = Input(shape=(encoding_dim,))\n",
    "# retrieve the last layer of the autoencoder model\n",
    "decoder_layer = autoencoder.layers[-1]\n",
    "# create the decoder model\n",
    "decoder = Model(encoded_input, decoder_layer(encoded_input))"
   ]
  },
  {
   "cell_type": "code",
   "execution_count": 8,
   "metadata": {},
   "outputs": [],
   "source": [
    "autoencoder.compile(optimizer='adadelta', loss='binary_crossentropy')"
   ]
  },
  {
   "cell_type": "code",
   "execution_count": 9,
   "metadata": {},
   "outputs": [
    {
     "name": "stdout",
     "output_type": "stream",
     "text": [
      "Downloading data from https://s3.amazonaws.com/img-datasets/mnist.npz\n",
      "11493376/11490434 [==============================] - 20s 2us/step\n",
      "11501568/11490434 [==============================] - 20s 2us/step\n"
     ]
    }
   ],
   "source": [
    "from keras.datasets import mnist\n",
    "import numpy as np\n",
    "(x_train, _), (x_test, _) = mnist.load_data()"
   ]
  },
  {
   "cell_type": "code",
   "execution_count": 10,
   "metadata": {},
   "outputs": [
    {
     "name": "stdout",
     "output_type": "stream",
     "text": [
      "(60000, 784)\n",
      "(10000, 784)\n"
     ]
    }
   ],
   "source": [
    "x_train = x_train.astype('float32') / 255.\n",
    "x_test = x_test.astype('float32') / 255.\n",
    "x_train = x_train.reshape((len(x_train), np.prod(x_train.shape[1:])))\n",
    "x_test = x_test.reshape((len(x_test), np.prod(x_test.shape[1:])))\n",
    "print x_train.shape\n",
    "print x_test.shape"
   ]
  },
  {
   "cell_type": "code",
   "execution_count": 11,
   "metadata": {},
   "outputs": [
    {
     "name": "stdout",
     "output_type": "stream",
     "text": [
      "Train on 60000 samples, validate on 10000 samples\n",
      "Epoch 1/50\n",
      "60000/60000 [==============================] - 5s 76us/step - loss: 0.3673 - val_loss: 0.2720\n",
      "Epoch 2/50\n",
      "60000/60000 [==============================] - 4s 71us/step - loss: 0.2650 - val_loss: 0.2544\n",
      "Epoch 3/50\n",
      "60000/60000 [==============================] - 4s 70us/step - loss: 0.2441 - val_loss: 0.2317\n",
      "Epoch 4/50\n",
      "60000/60000 [==============================] - 4s 69us/step - loss: 0.2240 - val_loss: 0.2143\n",
      "Epoch 5/50\n",
      "60000/60000 [==============================] - 4s 69us/step - loss: 0.2093 - val_loss: 0.2019\n",
      "Epoch 6/50\n",
      "60000/60000 [==============================] - 4s 70us/step - loss: 0.1985 - val_loss: 0.1928\n",
      "Epoch 7/50\n",
      "60000/60000 [==============================] - 4s 69us/step - loss: 0.1902 - val_loss: 0.1853\n",
      "Epoch 8/50\n",
      "60000/60000 [==============================] - 4s 69us/step - loss: 0.1836 - val_loss: 0.1792\n",
      "Epoch 9/50\n",
      "60000/60000 [==============================] - 4s 69us/step - loss: 0.1777 - val_loss: 0.1736\n",
      "Epoch 10/50\n",
      "60000/60000 [==============================] - 4s 70us/step - loss: 0.1723 - val_loss: 0.1685\n",
      "Epoch 11/50\n",
      "60000/60000 [==============================] - 4s 68us/step - loss: 0.1674 - val_loss: 0.1639\n",
      "Epoch 12/50\n",
      "60000/60000 [==============================] - 4s 70us/step - loss: 0.1631 - val_loss: 0.1599\n",
      "Epoch 13/50\n",
      "60000/60000 [==============================] - 4s 69us/step - loss: 0.1593 - val_loss: 0.1564\n",
      "Epoch 14/50\n",
      "60000/60000 [==============================] - 4s 69us/step - loss: 0.1559 - val_loss: 0.1531\n",
      "Epoch 15/50\n",
      "60000/60000 [==============================] - 4s 70us/step - loss: 0.1529 - val_loss: 0.1502\n",
      "Epoch 16/50\n",
      "60000/60000 [==============================] - 4s 69us/step - loss: 0.1501 - val_loss: 0.1476\n",
      "Epoch 17/50\n",
      "60000/60000 [==============================] - 4s 68us/step - loss: 0.1475 - val_loss: 0.1451\n",
      "Epoch 18/50\n",
      "60000/60000 [==============================] - 4s 68us/step - loss: 0.1452 - val_loss: 0.1429\n",
      "Epoch 19/50\n",
      "60000/60000 [==============================] - 4s 68us/step - loss: 0.1430 - val_loss: 0.1407\n",
      "Epoch 20/50\n",
      "60000/60000 [==============================] - 4s 69us/step - loss: 0.1410 - val_loss: 0.1387\n",
      "Epoch 21/50\n",
      "60000/60000 [==============================] - 4s 69us/step - loss: 0.1391 - val_loss: 0.1368\n",
      "Epoch 22/50\n",
      "60000/60000 [==============================] - 4s 70us/step - loss: 0.1373 - val_loss: 0.1352\n",
      "Epoch 23/50\n",
      "60000/60000 [==============================] - 4s 70us/step - loss: 0.1355 - val_loss: 0.1333\n",
      "Epoch 24/50\n",
      "60000/60000 [==============================] - 4s 68us/step - loss: 0.1339 - val_loss: 0.1318\n",
      "Epoch 25/50\n",
      "60000/60000 [==============================] - 4s 69us/step - loss: 0.1323 - val_loss: 0.1302\n",
      "Epoch 26/50\n",
      "60000/60000 [==============================] - 4s 68us/step - loss: 0.1307 - val_loss: 0.1286\n",
      "Epoch 27/50\n",
      "60000/60000 [==============================] - 4s 69us/step - loss: 0.1293 - val_loss: 0.1271\n",
      "Epoch 28/50\n",
      "60000/60000 [==============================] - 4s 68us/step - loss: 0.1278 - val_loss: 0.1258\n",
      "Epoch 29/50\n",
      "60000/60000 [==============================] - 4s 69us/step - loss: 0.1265 - val_loss: 0.1245\n",
      "Epoch 30/50\n",
      "60000/60000 [==============================] - 4s 69us/step - loss: 0.1252 - val_loss: 0.1231\n",
      "Epoch 31/50\n",
      "60000/60000 [==============================] - 4s 69us/step - loss: 0.1240 - val_loss: 0.1220\n",
      "Epoch 32/50\n",
      "60000/60000 [==============================] - 4s 72us/step - loss: 0.1229 - val_loss: 0.1208\n",
      "Epoch 33/50\n",
      "60000/60000 [==============================] - 4s 68us/step - loss: 0.1218 - val_loss: 0.1198\n",
      "Epoch 34/50\n",
      "60000/60000 [==============================] - 4s 68us/step - loss: 0.1208 - val_loss: 0.1189\n",
      "Epoch 35/50\n",
      "60000/60000 [==============================] - 4s 69us/step - loss: 0.1199 - val_loss: 0.1180\n",
      "Epoch 36/50\n",
      "60000/60000 [==============================] - 4s 69us/step - loss: 0.1190 - val_loss: 0.1172\n",
      "Epoch 37/50\n",
      "60000/60000 [==============================] - 4s 69us/step - loss: 0.1183 - val_loss: 0.1164\n",
      "Epoch 38/50\n",
      "60000/60000 [==============================] - 4s 69us/step - loss: 0.1175 - val_loss: 0.1156\n",
      "Epoch 39/50\n",
      "60000/60000 [==============================] - 4s 69us/step - loss: 0.1168 - val_loss: 0.1150\n",
      "Epoch 40/50\n",
      "60000/60000 [==============================] - 4s 71us/step - loss: 0.1162 - val_loss: 0.1144\n",
      "Epoch 41/50\n",
      "60000/60000 [==============================] - 4s 72us/step - loss: 0.1156 - val_loss: 0.1138\n",
      "Epoch 42/50\n",
      "60000/60000 [==============================] - 4s 69us/step - loss: 0.1151 - val_loss: 0.1133\n",
      "Epoch 43/50\n",
      "60000/60000 [==============================] - 4s 64us/step - loss: 0.1146 - val_loss: 0.1128\n",
      "Epoch 44/50\n",
      "60000/60000 [==============================] - 4s 69us/step - loss: 0.1141 - val_loss: 0.1123\n",
      "Epoch 45/50\n",
      "60000/60000 [==============================] - 4s 68us/step - loss: 0.1137 - val_loss: 0.1119\n",
      "Epoch 46/50\n",
      "60000/60000 [==============================] - 4s 63us/step - loss: 0.1133 - val_loss: 0.1114\n",
      "Epoch 47/50\n",
      "60000/60000 [==============================] - 4s 66us/step - loss: 0.1129 - val_loss: 0.1111\n",
      "Epoch 48/50\n",
      "60000/60000 [==============================] - 4s 67us/step - loss: 0.1125 - val_loss: 0.1107\n",
      "Epoch 49/50\n",
      "60000/60000 [==============================] - 4s 66us/step - loss: 0.1122 - val_loss: 0.1103\n",
      "Epoch 50/50\n",
      "60000/60000 [==============================] - 4s 66us/step - loss: 0.1118 - val_loss: 0.1100\n"
     ]
    },
    {
     "data": {
      "text/plain": [
       "<keras.callbacks.History at 0x7f8788528590>"
      ]
     },
     "execution_count": 11,
     "metadata": {},
     "output_type": "execute_result"
    }
   ],
   "source": [
    "autoencoder.fit(x_train, x_train,\n",
    "                epochs=50,\n",
    "                batch_size=256,\n",
    "                shuffle=True,\n",
    "                validation_data=(x_test, x_test))"
   ]
  },
  {
   "cell_type": "code",
   "execution_count": 12,
   "metadata": {},
   "outputs": [],
   "source": [
    "# encode and decode some digits\n",
    "# note that we take them from the *test* set\n",
    "encoded_imgs = encoder.predict(x_test)\n",
    "decoded_imgs = decoder.predict(encoded_imgs)"
   ]
  },
  {
   "cell_type": "code",
   "execution_count": 13,
   "metadata": {},
   "outputs": [
    {
     "data": {
      "image/png": "[encoded data removed]",
      "text/plain": [
       "<matplotlib.figure.Figure at 0x7f87c867a310>"
      ]
     },
     "metadata": {},
     "output_type": "display_data"
    },
    {
     "data": {
      "image/png": "[encoded data removed]",
      "text/plain": [
       "<matplotlib.figure.Figure at 0x7f87851a86d0>"
      ]
     },
     "metadata": {},
     "output_type": "display_data"
    }
   ],
   "source": [
    "import matplotlib.pyplot as plt\n",
    "\n",
    "n = 10  # how many digits we will display\n",
    "plt.figure(figsize=(20, 4))\n",
    "for i in range(n):\n",
    "    # display original\n",
    "    ax = plt.subplot(2, n, i + 1)\n",
    "    plt.imshow(x_test[i].reshape(28, 28))\n",
    "    plt.gray()\n",
    "    ax.get_xaxis().set_visible(False)\n",
    "    ax.get_yaxis().set_visible(False)\n",
    "\n",
    "    # display reconstruction\n",
    "    ax = plt.subplot(2, n, i + 1 + n)\n",
    "    plt.imshow(decoded_imgs[i].reshape(28, 28))\n",
    "    plt.gray()\n",
    "    ax.get_xaxis().set_visible(False)\n",
    "    ax.get_yaxis().set_visible(False)\n",
    "plt.show()"
   ]
  },
  {
   "cell_type": "code",
   "execution_count": 14,
   "metadata": {},
   "outputs": [],
   "source": [
    "from keras import regularizers\n",
    "\n",
    "encoding_dim = 32\n",
    "\n",
    "input_img = Input(shape=(784,))\n",
    "# add a Dense layer with a L1 activity regularizer\n",
    "encoded = Dense(encoding_dim, activation='relu',\n",
    "                activity_regularizer=regularizers.l1(10e-5))(input_img)\n",
    "decoded = Dense(784, activation='sigmoid')(encoded)\n",
    "\n",
    "autoencoder = Model(input_img, decoded)"
   ]
  },
  {
   "cell_type": "code",
   "execution_count": 15,
   "metadata": {},
   "outputs": [],
   "source": [
    "input_img = Input(shape=(784,))\n",
    "encoded = Dense(128, activation='relu')(input_img)\n",
    "encoded = Dense(64, activation='relu')(encoded)\n",
    "encoded = Dense(32, activation='relu')(encoded)\n",
    "\n",
    "decoded = Dense(64, activation='relu')(encoded)\n",
    "decoded = Dense(128, activation='relu')(decoded)\n",
    "decoded = Dense(784, activation='sigmoid')(decoded)"
   ]
  },
  {
   "cell_type": "code",
   "execution_count": 16,
   "metadata": {},
   "outputs": [
    {
     "name": "stdout",
     "output_type": "stream",
     "text": [
      "Train on 60000 samples, validate on 10000 samples\n",
      "Epoch 1/100\n",
      "60000/60000 [==============================] - 6s 108us/step - loss: 0.3297 - val_loss: 0.2623\n",
      "Epoch 2/100\n",
      "60000/60000 [==============================] - 6s 96us/step - loss: 0.2518 - val_loss: 0.2417\n",
      "Epoch 3/100\n",
      "60000/60000 [==============================] - 6s 105us/step - loss: 0.2323 - val_loss: 0.2185\n",
      "Epoch 4/100\n",
      "60000/60000 [==============================] - 5s 90us/step - loss: 0.2116 - val_loss: 0.2055\n",
      "Epoch 5/100\n",
      "60000/60000 [==============================] - 6s 93us/step - loss: 0.2002 - val_loss: 0.1950\n",
      "Epoch 6/100\n",
      "60000/60000 [==============================] - 6s 101us/step - loss: 0.1918 - val_loss: 0.1869\n",
      "Epoch 7/100\n",
      "60000/60000 [==============================] - 5s 88us/step - loss: 0.1830 - val_loss: 0.1789\n",
      "Epoch 8/100\n",
      "60000/60000 [==============================] - 6s 93us/step - loss: 0.1764 - val_loss: 0.1718\n",
      "Epoch 9/100\n",
      "60000/60000 [==============================] - 6s 98us/step - loss: 0.1712 - val_loss: 0.1669\n",
      "Epoch 10/100\n",
      "60000/60000 [==============================] - 6s 99us/step - loss: 0.1668 - val_loss: 0.1626\n",
      "Epoch 11/100\n",
      "60000/60000 [==============================] - 6s 97us/step - loss: 0.1626 - val_loss: 0.1580\n",
      "Epoch 12/100\n",
      "60000/60000 [==============================] - 7s 115us/step - loss: 0.1586 - val_loss: 0.1575\n",
      "Epoch 13/100\n",
      "60000/60000 [==============================] - 6s 103us/step - loss: 0.1548 - val_loss: 0.1528\n",
      "Epoch 14/100\n",
      "60000/60000 [==============================] - 6s 94us/step - loss: 0.1512 - val_loss: 0.1485\n",
      "Epoch 15/100\n",
      "60000/60000 [==============================] - 6s 99us/step - loss: 0.1485 - val_loss: 0.1443\n",
      "Epoch 16/100\n",
      "60000/60000 [==============================] - 5s 91us/step - loss: 0.1461 - val_loss: 0.1439\n",
      "Epoch 17/100\n",
      "60000/60000 [==============================] - 5s 90us/step - loss: 0.1442 - val_loss: 0.1421\n",
      "Epoch 18/100\n",
      "60000/60000 [==============================] - 5s 92us/step - loss: 0.1423 - val_loss: 0.1396\n",
      "Epoch 19/100\n",
      "60000/60000 [==============================] - 5s 91us/step - loss: 0.1403 - val_loss: 0.1374\n",
      "Epoch 20/100\n",
      "60000/60000 [==============================] - 5s 88us/step - loss: 0.1382 - val_loss: 0.1352\n",
      "Epoch 21/100\n",
      "60000/60000 [==============================] - 5s 87us/step - loss: 0.1364 - val_loss: 0.1354\n",
      "Epoch 22/100\n",
      "60000/60000 [==============================] - 5s 86us/step - loss: 0.1348 - val_loss: 0.1332\n",
      "Epoch 23/100\n",
      "60000/60000 [==============================] - 5s 87us/step - loss: 0.1333 - val_loss: 0.1327\n",
      "Epoch 24/100\n",
      "60000/60000 [==============================] - 5s 86us/step - loss: 0.1320 - val_loss: 0.1316\n",
      "Epoch 25/100\n",
      "60000/60000 [==============================] - 5s 86us/step - loss: 0.1309 - val_loss: 0.1291\n",
      "Epoch 26/100\n",
      "60000/60000 [==============================] - 5s 87us/step - loss: 0.1300 - val_loss: 0.1278\n",
      "Epoch 27/100\n",
      "60000/60000 [==============================] - 5s 90us/step - loss: 0.1290 - val_loss: 0.1272\n",
      "Epoch 28/100\n",
      "60000/60000 [==============================] - 5s 86us/step - loss: 0.1279 - val_loss: 0.1255\n",
      "Epoch 29/100\n",
      "60000/60000 [==============================] - 5s 86us/step - loss: 0.1271 - val_loss: 0.1297\n",
      "Epoch 30/100\n",
      "60000/60000 [==============================] - 5s 86us/step - loss: 0.1261 - val_loss: 0.1252\n",
      "Epoch 31/100\n",
      "60000/60000 [==============================] - 6s 95us/step - loss: 0.1253 - val_loss: 0.1219\n",
      "Epoch 32/100\n",
      "60000/60000 [==============================] - 6s 95us/step - loss: 0.1244 - val_loss: 0.1237\n",
      "Epoch 33/100\n",
      "60000/60000 [==============================] - 6s 93us/step - loss: 0.1237 - val_loss: 0.1233\n",
      "Epoch 34/100\n",
      "60000/60000 [==============================] - 6s 94us/step - loss: 0.1228 - val_loss: 0.1187\n",
      "Epoch 35/100\n",
      "60000/60000 [==============================] - 6s 95us/step - loss: 0.1221 - val_loss: 0.1191\n",
      "Epoch 36/100\n",
      "60000/60000 [==============================] - 7s 114us/step - loss: 0.1215 - val_loss: 0.1204\n",
      "Epoch 37/100\n",
      "60000/60000 [==============================] - 8s 130us/step - loss: 0.1208 - val_loss: 0.1208\n",
      "Epoch 38/100\n",
      "60000/60000 [==============================] - 6s 108us/step - loss: 0.1200 - val_loss: 0.1192\n",
      "Epoch 39/100\n",
      "60000/60000 [==============================] - 6s 95us/step - loss: 0.1192 - val_loss: 0.1179\n",
      "Epoch 40/100\n",
      "60000/60000 [==============================] - 6s 93us/step - loss: 0.1186 - val_loss: 0.1190\n",
      "Epoch 41/100\n",
      "60000/60000 [==============================] - 6s 104us/step - loss: 0.1182 - val_loss: 0.1154\n",
      "Epoch 42/100\n",
      "60000/60000 [==============================] - 6s 106us/step - loss: 0.1176 - val_loss: 0.1154\n",
      "Epoch 43/100\n",
      "60000/60000 [==============================] - 6s 103us/step - loss: 0.1171 - val_loss: 0.1173\n",
      "Epoch 44/100\n",
      "60000/60000 [==============================] - 6s 102us/step - loss: 0.1165 - val_loss: 0.1188\n",
      "Epoch 45/100\n",
      "60000/60000 [==============================] - 9s 143us/step - loss: 0.1165 - val_loss: 0.1160\n",
      "Epoch 46/100\n",
      "60000/60000 [==============================] - 6s 108us/step - loss: 0.1155 - val_loss: 0.1137\n",
      "Epoch 47/100\n",
      "60000/60000 [==============================] - 6s 96us/step - loss: 0.1152 - val_loss: 0.1129\n",
      "Epoch 48/100\n",
      "60000/60000 [==============================] - 7s 117us/step - loss: 0.1147 - val_loss: 0.1149\n",
      "Epoch 49/100\n",
      "60000/60000 [==============================] - 7s 118us/step - loss: 0.1143 - val_loss: 0.1157\n",
      "Epoch 50/100\n",
      "60000/60000 [==============================] - 7s 112us/step - loss: 0.1137 - val_loss: 0.1129\n",
      "Epoch 51/100\n",
      "60000/60000 [==============================] - 7s 124us/step - loss: 0.1133 - val_loss: 0.1132\n",
      "Epoch 52/100\n",
      "60000/60000 [==============================] - 7s 120us/step - loss: 0.1130 - val_loss: 0.1131\n",
      "Epoch 53/100\n",
      "60000/60000 [==============================] - 7s 115us/step - loss: 0.1123 - val_loss: 0.1107\n",
      "Epoch 54/100\n",
      "60000/60000 [==============================] - 7s 123us/step - loss: 0.1121 - val_loss: 0.1097\n",
      "Epoch 55/100\n",
      "60000/60000 [==============================] - 8s 134us/step - loss: 0.1117 - val_loss: 0.1106\n",
      "Epoch 56/100\n",
      "60000/60000 [==============================] - 10s 160us/step - loss: 0.1117 - val_loss: 0.1095\n",
      "Epoch 57/100\n",
      "60000/60000 [==============================] - 8s 127us/step - loss: 0.1108 - val_loss: 0.1100\n",
      "Epoch 58/100\n",
      "60000/60000 [==============================] - 6s 99us/step - loss: 0.1104 - val_loss: 0.1087\n",
      "Epoch 59/100\n",
      "60000/60000 [==============================] - 6s 94us/step - loss: 0.1101 - val_loss: 0.1080\n",
      "Epoch 60/100\n",
      "60000/60000 [==============================] - 6s 96us/step - loss: 0.1098 - val_loss: 0.1098\n",
      "Epoch 61/100\n",
      "60000/60000 [==============================] - 6s 94us/step - loss: 0.1093 - val_loss: 0.1093\n",
      "Epoch 62/100\n",
      "60000/60000 [==============================] - 6s 93us/step - loss: 0.1091 - val_loss: 0.1080\n",
      "Epoch 63/100\n",
      "60000/60000 [==============================] - 6s 92us/step - loss: 0.1086 - val_loss: 0.1085\n",
      "Epoch 64/100\n",
      "60000/60000 [==============================] - 6s 93us/step - loss: 0.1084 - val_loss: 0.1085\n",
      "Epoch 65/100\n",
      "60000/60000 [==============================] - 6s 94us/step - loss: 0.1080 - val_loss: 0.1066\n",
      "Epoch 66/100\n",
      "60000/60000 [==============================] - 7s 119us/step - loss: 0.1080 - val_loss: 0.1072\n",
      "Epoch 67/100\n",
      "60000/60000 [==============================] - 8s 125us/step - loss: 0.1078 - val_loss: 0.1090\n",
      "Epoch 68/100\n",
      "60000/60000 [==============================] - 9s 145us/step - loss: 0.1074 - val_loss: 0.1045\n",
      "Epoch 69/100\n",
      "60000/60000 [==============================] - 6s 98us/step - loss: 0.1069 - val_loss: 0.1053\n",
      "Epoch 70/100\n",
      "60000/60000 [==============================] - 6s 99us/step - loss: 0.1068 - val_loss: 0.1050\n",
      "Epoch 71/100\n",
      "60000/60000 [==============================] - 8s 139us/step - loss: 0.1069 - val_loss: 0.1067\n",
      "Epoch 72/100\n",
      "60000/60000 [==============================] - 7s 123us/step - loss: 0.1062 - val_loss: 0.1066\n",
      "Epoch 73/100\n",
      "60000/60000 [==============================] - 7s 115us/step - loss: 0.1059 - val_loss: 0.1059\n",
      "Epoch 74/100\n",
      "60000/60000 [==============================] - 6s 99us/step - loss: 0.1056 - val_loss: 0.1058\n",
      "Epoch 75/100\n",
      "60000/60000 [==============================] - 7s 122us/step - loss: 0.1055 - val_loss: 0.1068\n",
      "Epoch 76/100\n",
      "60000/60000 [==============================] - 8s 138us/step - loss: 0.1056 - val_loss: 0.1045\n"
     ]
    },
    {
     "name": "stdout",
     "output_type": "stream",
     "text": [
      "Epoch 77/100\n",
      "60000/60000 [==============================] - 6s 106us/step - loss: 0.1048 - val_loss: 0.1040\n",
      "Epoch 78/100\n",
      "60000/60000 [==============================] - 6s 101us/step - loss: 0.1046 - val_loss: 0.1044\n",
      "Epoch 79/100\n",
      "60000/60000 [==============================] - 7s 111us/step - loss: 0.1045 - val_loss: 0.1055\n",
      "Epoch 80/100\n",
      "60000/60000 [==============================] - 7s 111us/step - loss: 0.1042 - val_loss: 0.1044\n",
      "Epoch 81/100\n",
      "60000/60000 [==============================] - 6s 96us/step - loss: 0.1039 - val_loss: 0.1038\n",
      "Epoch 82/100\n",
      "60000/60000 [==============================] - 6s 100us/step - loss: 0.1037 - val_loss: 0.1021\n",
      "Epoch 83/100\n",
      "60000/60000 [==============================] - 5s 90us/step - loss: 0.1035 - val_loss: 0.1024\n",
      "Epoch 84/100\n",
      "60000/60000 [==============================] - 5s 86us/step - loss: 0.1032 - val_loss: 0.1022\n",
      "Epoch 85/100\n",
      "60000/60000 [==============================] - 5s 86us/step - loss: 0.1030 - val_loss: 0.1032\n",
      "Epoch 86/100\n",
      "60000/60000 [==============================] - 6s 95us/step - loss: 0.1031 - val_loss: 0.1035\n",
      "Epoch 87/100\n",
      "60000/60000 [==============================] - 6s 96us/step - loss: 0.1027 - val_loss: 0.1014\n",
      "Epoch 88/100\n",
      "60000/60000 [==============================] - 6s 94us/step - loss: 0.1024 - val_loss: 0.1002\n",
      "Epoch 89/100\n",
      "60000/60000 [==============================] - 6s 95us/step - loss: 0.1022 - val_loss: 0.1007\n",
      "Epoch 90/100\n",
      "60000/60000 [==============================] - 6s 94us/step - loss: 0.1021 - val_loss: 0.1000\n",
      "Epoch 91/100\n",
      "60000/60000 [==============================] - 6s 94us/step - loss: 0.1020 - val_loss: 0.1014\n",
      "Epoch 92/100\n",
      "60000/60000 [==============================] - 6s 94us/step - loss: 0.1019 - val_loss: 0.1023\n",
      "Epoch 93/100\n",
      "60000/60000 [==============================] - 6s 92us/step - loss: 0.1015 - val_loss: 0.1038\n",
      "Epoch 94/100\n",
      "60000/60000 [==============================] - 6s 95us/step - loss: 0.1014 - val_loss: 0.1009\n",
      "Epoch 95/100\n",
      "60000/60000 [==============================] - 6s 94us/step - loss: 0.1012 - val_loss: 0.1001\n",
      "Epoch 96/100\n",
      "60000/60000 [==============================] - 6s 93us/step - loss: 0.1010 - val_loss: 0.1000\n",
      "Epoch 97/100\n",
      "60000/60000 [==============================] - 6s 94us/step - loss: 0.1009 - val_loss: 0.1002\n",
      "Epoch 98/100\n",
      "60000/60000 [==============================] - 6s 106us/step - loss: 0.1009 - val_loss: 0.1024\n",
      "Epoch 99/100\n",
      "60000/60000 [==============================] - 7s 111us/step - loss: 0.1007 - val_loss: 0.0991\n",
      "Epoch 100/100\n",
      "60000/60000 [==============================] - 6s 106us/step - loss: 0.1006 - val_loss: 0.1007\n"
     ]
    },
    {
     "data": {
      "text/plain": [
       "<keras.callbacks.History at 0x7f87885ee990>"
      ]
     },
     "execution_count": 16,
     "metadata": {},
     "output_type": "execute_result"
    }
   ],
   "source": [
    "autoencoder = Model(input_img, decoded)\n",
    "autoencoder.compile(optimizer='adadelta', loss='binary_crossentropy')\n",
    "\n",
    "autoencoder.fit(x_train, x_train,\n",
    "                epochs=100,\n",
    "                batch_size=256,\n",
    "                shuffle=True,\n",
    "                validation_data=(x_test, x_test))"
   ]
  },
  {
   "cell_type": "markdown",
   "metadata": {},
   "source": [
    "CNN"
   ]
  },
  {
   "cell_type": "code",
   "execution_count": 17,
   "metadata": {},
   "outputs": [],
   "source": [
    "from keras.layers import Input, Dense, Conv2D, MaxPooling2D, UpSampling2D\n",
    "from keras.models import Model\n",
    "from keras import backend as K\n",
    "\n",
    "input_img = Input(shape=(28, 28, 1))  # adapt this if using `channels_first` image data format\n",
    "\n",
    "x = Conv2D(16, (3, 3), activation='relu', padding='same')(input_img)\n",
    "x = MaxPooling2D((2, 2), padding='same')(x)\n",
    "x = Conv2D(8, (3, 3), activation='relu', padding='same')(x)\n",
    "x = MaxPooling2D((2, 2), padding='same')(x)\n",
    "x = Conv2D(8, (3, 3), activation='relu', padding='same')(x)\n",
    "encoded = MaxPooling2D((2, 2), padding='same')(x)\n",
    "\n",
    "# at this point the representation is (4, 4, 8) i.e. 128-dimensional\n",
    "\n",
    "x = Conv2D(8, (3, 3), activation='relu', padding='same')(encoded)\n",
    "x = UpSampling2D((2, 2))(x)\n",
    "x = Conv2D(8, (3, 3), activation='relu', padding='same')(x)\n",
    "x = UpSampling2D((2, 2))(x)\n",
    "x = Conv2D(16, (3, 3), activation='relu')(x)\n",
    "x = UpSampling2D((2, 2))(x)\n",
    "decoded = Conv2D(1, (3, 3), activation='sigmoid', padding='same')(x)\n",
    "\n",
    "autoencoder = Model(input_img, decoded)\n",
    "autoencoder.compile(optimizer='adadelta', loss='binary_crossentropy')"
   ]
  },
  {
   "cell_type": "code",
   "execution_count": 18,
   "metadata": {},
   "outputs": [],
   "source": [
    "from keras.datasets import mnist\n",
    "import numpy as np\n",
    "\n",
    "(x_train, _), (x_test, _) = mnist.load_data()\n",
    "\n",
    "x_train = x_train.astype('float32') / 255.\n",
    "x_test = x_test.astype('float32') / 255.\n",
    "x_train = np.reshape(x_train, (len(x_train), 28, 28, 1))  # adapt this if using `channels_first` image data format\n",
    "x_test = np.reshape(x_test, (len(x_test), 28, 28, 1))  # adapt this if using `channels_first` image data format\n"
   ]
  },
  {
   "cell_type": "code",
   "execution_count": 23,
   "metadata": {},
   "outputs": [
    {
     "name": "stdout",
     "output_type": "stream",
     "text": [
      "Train on 60000 samples, validate on 10000 samples\n",
      "Epoch 1/50\n",
      "60000/60000 [==============================] - 129s 2ms/step - loss: 0.1458 - val_loss: 0.1408\n",
      "Epoch 2/50\n",
      "60000/60000 [==============================] - 69s 1ms/step - loss: 0.1371 - val_loss: 0.1317\n",
      "Epoch 3/50\n",
      "60000/60000 [==============================] - 66s 1ms/step - loss: 0.1309 - val_loss: 0.1256\n",
      "Epoch 4/50\n",
      "60000/60000 [==============================] - 66s 1ms/step - loss: 0.1261 - val_loss: 0.1249\n",
      "Epoch 5/50\n",
      "60000/60000 [==============================] - 66s 1ms/step - loss: 0.1224 - val_loss: 0.1225\n",
      "Epoch 6/50\n",
      "60000/60000 [==============================] - 65s 1ms/step - loss: 0.1197 - val_loss: 0.1163\n",
      "Epoch 7/50\n",
      "60000/60000 [==============================] - 64s 1ms/step - loss: 0.1178 - val_loss: 0.1151\n",
      "Epoch 8/50\n",
      "60000/60000 [==============================] - 64s 1ms/step - loss: 0.1160 - val_loss: 0.1138\n",
      "Epoch 9/50\n",
      "60000/60000 [==============================] - 64s 1ms/step - loss: 0.1147 - val_loss: 0.1122\n",
      "Epoch 10/50\n",
      "60000/60000 [==============================] - 64s 1ms/step - loss: 0.1131 - val_loss: 0.1122\n",
      "Epoch 11/50\n",
      "60000/60000 [==============================] - 65s 1ms/step - loss: 0.1120 - val_loss: 0.1093\n",
      "Epoch 12/50\n",
      "60000/60000 [==============================] - 64s 1ms/step - loss: 0.1112 - val_loss: 0.1131\n",
      "Epoch 13/50\n",
      "60000/60000 [==============================] - 64s 1ms/step - loss: 0.1102 - val_loss: 0.1108\n",
      "Epoch 14/50\n",
      "60000/60000 [==============================] - 64s 1ms/step - loss: 0.1097 - val_loss: 0.1100\n",
      "Epoch 15/50\n",
      "60000/60000 [==============================] - 63s 1ms/step - loss: 0.1090 - val_loss: 0.1057\n",
      "Epoch 16/50\n",
      "60000/60000 [==============================] - 63s 1ms/step - loss: 0.1084 - val_loss: 0.1069\n",
      "Epoch 17/50\n",
      "60000/60000 [==============================] - 63s 1ms/step - loss: 0.1079 - val_loss: 0.1092\n",
      "Epoch 18/50\n",
      "60000/60000 [==============================] - 63s 1ms/step - loss: 0.1071 - val_loss: 0.1059\n",
      "Epoch 19/50\n",
      "60000/60000 [==============================] - 63s 1ms/step - loss: 0.1066 - val_loss: 0.1079\n",
      "Epoch 20/50\n",
      "60000/60000 [==============================] - 63s 1ms/step - loss: 0.1061 - val_loss: 0.1069\n",
      "Epoch 21/50\n",
      "60000/60000 [==============================] - 63s 1ms/step - loss: 0.1056 - val_loss: 0.1024\n",
      "Epoch 22/50\n",
      "60000/60000 [==============================] - 63s 1ms/step - loss: 0.1052 - val_loss: 0.1054\n",
      "Epoch 23/50\n",
      "60000/60000 [==============================] - 63s 1ms/step - loss: 0.1050 - val_loss: 0.1071\n",
      "Epoch 24/50\n",
      "60000/60000 [==============================] - 63s 1ms/step - loss: 0.1046 - val_loss: 0.1039\n",
      "Epoch 25/50\n",
      "60000/60000 [==============================] - 63s 1ms/step - loss: 0.1043 - val_loss: 0.1010\n",
      "Epoch 26/50\n",
      "60000/60000 [==============================] - 63s 1ms/step - loss: 0.1037 - val_loss: 0.1050\n",
      "Epoch 27/50\n",
      "60000/60000 [==============================] - 64s 1ms/step - loss: 0.1035 - val_loss: 0.1013\n",
      "Epoch 28/50\n",
      "60000/60000 [==============================] - 63s 1ms/step - loss: 0.1034 - val_loss: 0.1058\n",
      "Epoch 29/50\n",
      "60000/60000 [==============================] - 64s 1ms/step - loss: 0.1028 - val_loss: 0.1008\n",
      "Epoch 30/50\n",
      "60000/60000 [==============================] - 63s 1ms/step - loss: 0.1027 - val_loss: 0.1029\n",
      "Epoch 31/50\n",
      "60000/60000 [==============================] - 63s 1ms/step - loss: 0.1025 - val_loss: 0.1016\n",
      "Epoch 32/50\n",
      "60000/60000 [==============================] - 63s 1ms/step - loss: 0.1022 - val_loss: 0.1013\n",
      "Epoch 33/50\n",
      "60000/60000 [==============================] - 63s 1ms/step - loss: 0.1021 - val_loss: 0.0981\n",
      "Epoch 34/50\n",
      "60000/60000 [==============================] - 63s 1ms/step - loss: 0.1017 - val_loss: 0.1012\n",
      "Epoch 35/50\n",
      "60000/60000 [==============================] - 63s 1ms/step - loss: 0.1017 - val_loss: 0.1016\n",
      "Epoch 36/50\n",
      "60000/60000 [==============================] - 63s 1ms/step - loss: 0.1015 - val_loss: 0.1003\n",
      "Epoch 37/50\n",
      "60000/60000 [==============================] - 63s 1ms/step - loss: 0.1014 - val_loss: 0.0988\n",
      "Epoch 38/50\n",
      "60000/60000 [==============================] - 63s 1ms/step - loss: 0.1010 - val_loss: 0.0987\n",
      "Epoch 39/50\n",
      "60000/60000 [==============================] - 63s 1ms/step - loss: 0.1011 - val_loss: 0.0984\n",
      "Epoch 40/50\n",
      "60000/60000 [==============================] - 62s 1ms/step - loss: 0.1007 - val_loss: 0.1020\n",
      "Epoch 41/50\n",
      "60000/60000 [==============================] - 63s 1ms/step - loss: 0.1006 - val_loss: 0.0975\n",
      "Epoch 42/50\n",
      "60000/60000 [==============================] - 63s 1ms/step - loss: 0.1004 - val_loss: 0.0993\n",
      "Epoch 43/50\n",
      "60000/60000 [==============================] - 63s 1ms/step - loss: 0.1004 - val_loss: 0.0983\n",
      "Epoch 44/50\n",
      "60000/60000 [==============================] - 64s 1ms/step - loss: 0.1002 - val_loss: 0.0999\n",
      "Epoch 45/50\n",
      "60000/60000 [==============================] - 63s 1ms/step - loss: 0.0998 - val_loss: 0.1003\n",
      "Epoch 46/50\n",
      "60000/60000 [==============================] - 63s 1ms/step - loss: 0.0999 - val_loss: 0.1009\n",
      "Epoch 47/50\n",
      "60000/60000 [==============================] - 62s 1ms/step - loss: 0.0998 - val_loss: 0.0984\n",
      "Epoch 48/50\n",
      "60000/60000 [==============================] - 63s 1ms/step - loss: 0.0997 - val_loss: 0.1015\n",
      "Epoch 49/50\n",
      "60000/60000 [==============================] - 63s 1ms/step - loss: 0.0996 - val_loss: 0.0969\n",
      "Epoch 50/50\n",
      "60000/60000 [==============================] - 62s 1ms/step - loss: 0.0993 - val_loss: 0.1007\n"
     ]
    },
    {
     "data": {
      "text/plain": [
       "<keras.callbacks.History at 0x7f8745c9c7d0>"
      ]
     },
     "execution_count": 23,
     "metadata": {},
     "output_type": "execute_result"
    }
   ],
   "source": [
    "from keras.callbacks import TensorBoard\n",
    "\n",
    "autoencoder.fit(x_train, x_train,\n",
    "                epochs=50,\n",
    "                batch_size=128,\n",
    "                shuffle=True,\n",
    "                validation_data=(x_test, x_test),\n",
    "                callbacks=[TensorBoard(log_dir='/tmp/autoencoder')])"
   ]
  },
  {
   "cell_type": "code",
   "execution_count": 27,
   "metadata": {},
   "outputs": [
    {
     "data": {
      "text/plain": [
       "<matplotlib.figure.Figure at 0x7f87469d4bd0>"
      ]
     },
     "metadata": {},
     "output_type": "display_data"
    },
    {
     "data": {
      "text/plain": [
       "<matplotlib.figure.Figure at 0x7f8745d79c50>"
      ]
     },
     "metadata": {},
     "output_type": "display_data"
    },
    {
     "data": {
      "text/plain": [
       "<matplotlib.figure.Figure at 0x7f874d4b6110>"
      ]
     },
     "metadata": {},
     "output_type": "display_data"
    },
    {
     "data": {
      "text/plain": [
       "<matplotlib.figure.Figure at 0x7f8745d79f90>"
      ]
     },
     "metadata": {},
     "output_type": "display_data"
    },
    {
     "data": {
      "text/plain": [
       "<matplotlib.figure.Figure at 0x7f8745d79f50>"
      ]
     },
     "metadata": {},
     "output_type": "display_data"
    },
    {
     "data": {
      "image/png": "[encoded data removed]",
      "text/plain": [
       "<matplotlib.figure.Figure at 0x7f87886d8550>"
      ]
     },
     "metadata": {},
     "output_type": "display_data"
    }
   ],
   "source": [
    "decoded_imgs = autoencoder.predict(x_test)\n",
    "\n",
    "n = 10\n",
    "plt.figure(figsize=(20, 4))\n",
    "for i in range(1,10):\n",
    "    # display original\n",
    "    ax = plt.subplot(2, 10, i)\n",
    "    plt.imshow(x_test[i].reshape(28, 28))\n",
    "    plt.gray()\n",
    "    ax.get_xaxis().set_visible(False)\n",
    "    ax.get_yaxis().set_visible(False)\n",
    "\n",
    "    # display reconstruction\n",
    "    ax = plt.subplot(2, n, i + n)\n",
    "    plt.imshow(decoded_imgs[i].reshape(28, 28))\n",
    "    plt.gray()\n",
    "    ax.get_xaxis().set_visible(False)\n",
    "    ax.get_yaxis().set_visible(False)\n",
    "plt.show()"
   ]
  },
  {
   "cell_type": "code",
   "execution_count": 31,
   "metadata": {},
   "outputs": [
    {
     "ename": "ValueError",
     "evalue": "cannot reshape array of size 32 into shape (4,32)",
     "output_type": "error",
     "traceback": [
      "\u001b[0;31m----------------------------------------------\u001b[0m",
      "\u001b[0;31mValueError\u001b[0m   Traceback (most recent call last)",
      "\u001b[0;32m<ipython-input-31-34c2a59bd5b0>\u001b[0m in \u001b[0;36m<module>\u001b[0;34m()\u001b[0m\n\u001b[1;32m      3\u001b[0m \u001b[0;32mfor\u001b[0m \u001b[0mi\u001b[0m \u001b[0;32min\u001b[0m \u001b[0mrange\u001b[0m\u001b[0;34m(\u001b[0m\u001b[0;36m1\u001b[0m\u001b[0;34m,\u001b[0m\u001b[0;36m10\u001b[0m\u001b[0;34m)\u001b[0m\u001b[0;34m:\u001b[0m\u001b[0;34m\u001b[0m\u001b[0m\n\u001b[1;32m      4\u001b[0m     \u001b[0max\u001b[0m \u001b[0;34m=\u001b[0m \u001b[0mplt\u001b[0m\u001b[0;34m.\u001b[0m\u001b[0msubplot\u001b[0m\u001b[0;34m(\u001b[0m\u001b[0;36m1\u001b[0m\u001b[0;34m,\u001b[0m \u001b[0;36m10\u001b[0m\u001b[0;34m,\u001b[0m \u001b[0mi\u001b[0m\u001b[0;34m)\u001b[0m\u001b[0;34m\u001b[0m\u001b[0m\n\u001b[0;32m----> 5\u001b[0;31m     \u001b[0mplt\u001b[0m\u001b[0;34m.\u001b[0m\u001b[0mimshow\u001b[0m\u001b[0;34m(\u001b[0m\u001b[0mencoded_imgs\u001b[0m\u001b[0;34m[\u001b[0m\u001b[0mi\u001b[0m\u001b[0;34m]\u001b[0m\u001b[0;34m.\u001b[0m\u001b[0mreshape\u001b[0m\u001b[0;34m(\u001b[0m\u001b[0;36m4\u001b[0m\u001b[0;34m,\u001b[0m \u001b[0;36m4\u001b[0m \u001b[0;34m*\u001b[0m \u001b[0;36m8\u001b[0m\u001b[0;34m)\u001b[0m\u001b[0;34m.\u001b[0m\u001b[0mT\u001b[0m\u001b[0;34m)\u001b[0m\u001b[0;34m\u001b[0m\u001b[0m\n\u001b[0m\u001b[1;32m      6\u001b[0m     \u001b[0mplt\u001b[0m\u001b[0;34m.\u001b[0m\u001b[0mgray\u001b[0m\u001b[0;34m(\u001b[0m\u001b[0;34m)\u001b[0m\u001b[0;34m\u001b[0m\u001b[0m\n\u001b[1;32m      7\u001b[0m     \u001b[0max\u001b[0m\u001b[0;34m.\u001b[0m\u001b[0mget_xaxis\u001b[0m\u001b[0;34m(\u001b[0m\u001b[0;34m)\u001b[0m\u001b[0;34m.\u001b[0m\u001b[0mset_visible\u001b[0m\u001b[0;34m(\u001b[0m\u001b[0mFalse\u001b[0m\u001b[0;34m)\u001b[0m\u001b[0;34m\u001b[0m\u001b[0m\n",
      "\u001b[0;31mValueError\u001b[0m: cannot reshape array of size 32 into shape (4,32)"
     ]
    }
   ],
   "source": [
    "n = 10\n",
    "plt.figure(figsize=(20, 8))\n",
    "for i in range(1,10):\n",
    "    ax = plt.subplot(1, 10, i)\n",
    "    plt.imshow(encoded_imgs[i].reshape(4, 4 * 8).T)\n",
    "    plt.gray()\n",
    "    ax.get_xaxis().set_visible(False)\n",
    "    ax.get_yaxis().set_visible(False)\n",
    "plt.show()"
   ]
  }
 ],
 "metadata": {
  "kernelspec": {
   "display_name": "Python 2",
   "language": "python",
   "name": "python2"
  },
  "language_info": {
   "codemirror_mode": {
    "name": "ipython",
    "version": 2
   },
   "file_extension": ".py",
   "mimetype": "text/x-python",
   "name": "python",
   "nbconvert_exporter": "python",
   "pygments_lexer": "ipython2",
   "version": "2.7.12"
  }
 },
 "nbformat": 4,
 "nbformat_minor": 2
}
