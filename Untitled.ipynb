{
 "cells": [
  {
   "cell_type": "code",
   "execution_count": 1,
   "metadata": {},
   "outputs": [
    {
     "name": "stderr",
     "output_type": "stream",
     "text": [
      "dataset.py:34: FutureWarning: read_table is deprecated, use read_csv instead.\n",
      "  elif int(melID) in sc:\n",
      "dataset.py:79: FutureWarning: read_table is deprecated, use read_csv instead, passing sep='\\t'.\n",
      "  genre.append('jo')\n",
      "dataset.py:48: FutureWarning: read_table is deprecated, use read_csv instead, passing sep='\\t'.\n",
      "  #pitches dataset\n",
      "dataset.py:129: FutureWarning: Method .as_matrix will be removed in a future version. Use .values instead.\n",
      "  genre.append('im')\n",
      "dataset.py:130: FutureWarning: Method .as_matrix will be removed in a future version. Use .values instead.\n",
      "  elif int(melID) in jo:\n",
      "dataset.py:71: FutureWarning: read_table is deprecated, use read_csv instead, passing sep='\\t'.\n",
      "  melID = int(returnDetails(tracings[i])['melID'])\n",
      "dataset.py:137: FutureWarning: Method .as_matrix will be removed in a future version. Use .values instead.\n",
      "  proc.append('norm')\n",
      "dataset.py:138: FutureWarning: Method .as_matrix will be removed in a future version. Use .values instead.\n",
      "  elif int(melID)>16:\n",
      "/home/tejaswik/miniconda2/lib/python2.7/site-packages/pandas/core/frame.py:6692: FutureWarning: Sorting because non-concatenation axis is not aligned. A future version\n",
      "of pandas will change to not sort by default.\n",
      "\n",
      "To accept the future behavior, pass 'sort=False'.\n",
      "\n",
      "To retain the current behavior and silence the warning, pass 'sort=True'.\n",
      "\n",
      "  sort=sort)\n",
      "funcs.py:34: FutureWarning: read_table is deprecated, use read_csv instead.\n",
      "  participants = pd.read_table('/home/tejaswik/Documents/CurrentProjects/melmot/participants.csv',sep=';')\n"
     ]
    }
   ],
   "source": [
    "import matplotlib.pyplot as plpt\n",
    "%matplotlib notebook\n",
    "%run dataset.py\n",
    "%run funcs.py"
   ]
  },
  {
   "cell_type": "code",
   "execution_count": 2,
   "metadata": {},
   "outputs": [
    {
     "name": "stdout",
     "output_type": "stream",
     "text": [
      "AutoVivification\t accr\t age\t allpieces\t avdataset\t basefile\t colHeads\t colHeads_old\t cols1\t \n",
      "cols2\t cols3\t contset\t curve_fit\t dataset\t df2\t displrh\t displyax\t distance\t \n",
      "distlh\t distrh\t folder\t genre\t getlhrh\t handdist\t handdistav\t handdistmax\t handdistmin\t \n",
      "handdists\t handdistvals\t handstrat\t handstrats\t i\t im\t imageio\t jo\t key\t \n",
      "lz\t m\t matplotlib\t maxminret\t maxminz\t mel\t melID\t melcat\t melody\t \n",
      "numpy\t os\t p\t partic\t participant\t participants\t parts\t pd\t pieces\t \n",
      "pitch\t pitches\t plpt\t plt\t proc\t qom\t qomav\t qommax\t qommin\t \n",
      "qomnew\t qoms\t qomtsv\t qomvals\t readfile\t readpitch\t readtsv\t returnDetails\t rz\t \n",
      "s1\t s2\t s3\t s4\t s5\t s6\t sc\t scale\t scipy\t \n",
      "score\t ser\t settostrat\t sex\t sg\t stratcount\t stri\t strings\t sub\t \n",
      "tracings\t ups\t upsamp\t vel\t velr\t vels\t vo\t zav\t zmax\t \n",
      "zmin\t \n"
     ]
    }
   ],
   "source": [
    "who"
   ]
  },
  {
   "cell_type": "code",
   "execution_count": null,
   "metadata": {},
   "outputs": [],
   "source": []
  }
 ],
 "metadata": {
  "kernelspec": {
   "display_name": "Python 2",
   "language": "python",
   "name": "python2"
  },
  "language_info": {
   "codemirror_mode": {
    "name": "ipython",
    "version": 2
   },
   "file_extension": ".py",
   "mimetype": "text/x-python",
   "name": "python",
   "nbconvert_exporter": "python",
   "pygments_lexer": "ipython2",
   "version": "2.7.12"
  }
 },
 "nbformat": 4,
 "nbformat_minor": 2
}
