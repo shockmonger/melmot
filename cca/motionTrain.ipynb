{
 "cells": [
  {
   "cell_type": "code",
   "execution_count": 321,
   "metadata": {},
   "outputs": [],
   "source": [
    "%matplotlib notebook\n",
    "%run functions.py\n",
    "%run dataset.py"
   ]
  },
  {
   "cell_type": "code",
   "execution_count": 325,
   "metadata": {},
   "outputs": [],
   "source": [
    "#for each tracing, calculate qom(lh),qom(rh),select whichever is greater, and make dataframe from it\n",
    "# p = numpy.zeroes(4)\n",
    "p = []\n",
    "for i in tracings:\n",
    "    x = qomlhrh(i)\n",
    "    m = []\n",
    "    if x['qomlh'] > x['qomrh']:\n",
    "        n = []\n",
    "        df = pd.DataFrame(getlhrh(i)['lh'])\n",
    "        df = df - numpy.mean(df)\n",
    "        a = numpy.array(df['LHX'])\n",
    "        b = numpy.array(df['LHZ'])\n",
    "        c = numpy.diff(getlhrh(i)['lh']['LHX']) + numpy.diff(getlhrh(i)['lh']['LHZ']) + numpy.diff(getlhrh(i)['lh']['LHY'])\n",
    "        d = numpy.diff(c)\n",
    "        n = [a,b,c,d]\n",
    "    else:\n",
    "        n = []\n",
    "        df = pd.DataFrame(getlhrh(i)['rh'])\n",
    "        df = df - numpy.mean(df)\n",
    "        a = numpy.array(df['RHX'])\n",
    "        b = numpy.array(df['RHZ'])\n",
    "        c = numpy.diff(getlhrh(i)['rh']['RHX']) + numpy.diff(getlhrh(i)['rh']['RHZ']) + numpy.diff(getlhrh(i)['rh']['RHY'])\n",
    "        d = numpy.diff(c)\n",
    "        n = [a,b,c,d]\n",
    "    g = pd.DataFrame(n)\n",
    "    g = numpy.array(g.T)\n",
    "    p.append(g)"
   ]
  },
  {
   "cell_type": "code",
   "execution_count": 332,
   "metadata": {},
   "outputs": [
    {
     "data": {
      "text/plain": [
       "(794, 600, 4)"
      ]
     },
     "execution_count": 332,
     "metadata": {},
     "output_type": "execute_result"
    }
   ],
   "source": [
    "p = numpy.array(p)\n",
    "p.shape"
   ]
  },
  {
   "cell_type": "code",
   "execution_count": 343,
   "metadata": {},
   "outputs": [
    {
     "data": {
      "text/plain": [
       "'10'"
      ]
     },
     "execution_count": 343,
     "metadata": {},
     "output_type": "execute_result"
    }
   ],
   "source": [
    "returnDetails(tracings[0])"
   ]
  },
  {
   "cell_type": "code",
   "execution_count": 347,
   "metadata": {},
   "outputs": [],
   "source": [
    "partLabels = []\n",
    "for i in range(len(tracings)):\n",
    "    partLabels.append(int(returnDetails(tracings[i])['partID']))"
   ]
  },
  {
   "cell_type": "code",
   "execution_count": 348,
   "metadata": {},
   "outputs": [],
   "source": [
    "partLabels = numpy.array(partLabels)"
   ]
  },
  {
   "cell_type": "code",
   "execution_count": 350,
   "metadata": {},
   "outputs": [],
   "source": [
    "numpy.save('partLabels',partLabels, allow_pickle=True)"
   ]
  },
  {
   "cell_type": "code",
   "execution_count": 314,
   "metadata": {},
   "outputs": [],
   "source": [
    "numpy.save('pickle',p, allow_pickle = True)"
   ]
  },
  {
   "cell_type": "code",
   "execution_count": 316,
   "metadata": {},
   "outputs": [],
   "source": [
    "melodies = []\n",
    "for i in tracings:\n",
    "    x = int(returnDetails(i)['melID'])\n",
    "    if x>16:\n",
    "        x = x-16\n",
    "    x = x-1\n",
    "    melodies.append(x)"
   ]
  },
  {
   "cell_type": "code",
   "execution_count": 318,
   "metadata": {},
   "outputs": [],
   "source": [
    "melodies= pd.DataFrame(melodies)"
   ]
  },
  {
   "cell_type": "code",
   "execution_count": 319,
   "metadata": {},
   "outputs": [],
   "source": [
    "melodies.to_csv('melodies794')"
   ]
  }
 ],
 "metadata": {
  "kernelspec": {
   "display_name": "Python 2",
   "language": "python",
   "name": "python2"
  },
  "language_info": {
   "codemirror_mode": {
    "name": "ipython",
    "version": 2
   },
   "file_extension": ".py",
   "mimetype": "text/x-python",
   "name": "python",
   "nbconvert_exporter": "python",
   "pygments_lexer": "ipython2",
   "version": "2.7.14"
  }
 },
 "nbformat": 4,
 "nbformat_minor": 2
}
