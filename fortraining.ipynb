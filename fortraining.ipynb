{
 "cells": [
  {
   "cell_type": "code",
   "execution_count": 1,
   "metadata": {},
   "outputs": [],
   "source": [
    "import numpy, scipy, os, matplotlib, imageio\n",
    "import pandas as pd\n",
    "from scipy.optimize import curve_fit\n",
    "from sklearn.preprocessing import scale\n",
    "from scipy.spatial import distance\n",
    "from scipy.interpolate import splprep, splev\n",
    "from numpy import linspace\n",
    "\n",
    "\n",
    "import matplotlib.pyplot as plt\n",
    "matplotlib.style.use('ggplot')\n",
    "import scipy.signal as sg\n",
    "\n",
    "basefile = '/home/tejaswik/Documents/CurrentProjects/melmot/'\n",
    "colHeads_old=['id','frame','time','RHX','RHY','RHZ','LHX','LHY','LHZ']\n",
    "colHeads=['id','RHX','RHY','RHZ','LHX','LHY','LHZ']"
   ]
  },
  {
   "cell_type": "code",
   "execution_count": 2,
   "metadata": {},
   "outputs": [],
   "source": [
    "parts = os.listdir(basefile+'data/ind/')\n",
    "\n",
    "allpieces = {}\n",
    "for i in range(0,len(parts),1):\n",
    "    folder = basefile+'data/ind/'+parts[i]\n",
    "    pieces = os.listdir(folder)\n",
    "    allpieces['{0}'.format(parts[i])] = pieces\n",
    "\n",
    "    \n",
    "for key in allpieces:\n",
    "    for i in range(0,32,1):\n",
    "        allpieces[key][i] = allpieces[key][i][:-4]\n",
    "        \n",
    "pitches = os.listdir(basefile+'sound/pitch/')\n",
    "\n",
    "\n",
    "participants = pd.read_table('/home/tejaswik/Documents/CurrentProjects/melmot/participants.csv',sep=';')\n"
   ]
  },
  {
   "cell_type": "code",
   "execution_count": 3,
   "metadata": {},
   "outputs": [],
   "source": [
    "tracings = os.listdir('/home/tejaswik/Documents/CurrentProjects/melmot/data/normdatadump/')\n",
    "for i in range(len(tracings)):\n",
    "    tracings[i] = tracings[i][:-4]\n",
    "\n",
    "im = [1,2,3,4,17,18,19,20]\n",
    "jo = [5,6,7,8,21,22,23,24]\n",
    "sc = [9,10,11,12,25,26,27,28]\n",
    "vo = [13,14,15,16,29,30,31,32]\n",
    "    \n",
    "key, handstrat, participant, melody, sex, age, score, genre,proc, qoms, handdists, rz, lz  = ([] for i in range(13))\n",
    "cols1=['key', 'handstrat', 'participant', 'melody', 'sex', 'age', 'score', 'genre','proc', 'qom', 'handdist', 'rz', 'lz']\n"
   ]
  },
  {
   "cell_type": "code",
   "execution_count": 4,
   "metadata": {},
   "outputs": [],
   "source": [
    "def returnDetails(string):\n",
    "    split = string.split('_')\n",
    "    partID = split[0]\n",
    "    melID = split[1]\n",
    "    typeID = split[2]\n",
    "    return{'partID':partID, 'melID':melID, 'typeID':typeID}\n",
    "\n",
    "def readfile(stri):\n",
    "    fil = basefile+'data/normdatadump/'+stri+'.csv'\n",
    "    df1=pd.read_table(fil,header=0)\n",
    "    df1.columns=colHeads\n",
    "    return(df1)\n",
    "\n",
    "def readtsv(stri):\n",
    "    fil = basefile+'data/datadump/'+stri+'.tsv'\n",
    "    df1=pd.read_table(fil,header=None)\n",
    "    cols=['frame','time','RHX','RHY','RHZ','LHX','LHY','LHZ']\n",
    "    df1.columns=cols\n",
    "    return(df1)\n",
    "\n",
    "\n",
    "def getlhrhn(stri):\n",
    "    rh = readtsv(stri).iloc[:,2:5]\n",
    "    lh = readtsv(stri).iloc[:,5:8]\n",
    "    return{'lh':lh,'rh':rh}"
   ]
  },
  {
   "cell_type": "code",
   "execution_count": 5,
   "metadata": {},
   "outputs": [
    {
     "data": {
      "text/plain": [
       "array([ 101.126622,  104.858163,  114.066251,  128.324389,  147.412769,\n",
       "        169.225799,  190.243496,  207.098565,  217.962781,  223.030004,\n",
       "        224.116401,  223.688077,  223.904654,  226.057645,  230.499691,\n",
       "        236.778109,  243.973577,  251.01251 ,  256.945195,  261.154432,\n",
       "        263.446961,  264.039398,  263.464799,  262.36944 ,  261.418003,\n",
       "        261.14469 ,  261.881536,  263.708697,  266.439061,  269.66585 ,\n",
       "        272.887327,  275.519123,  277.029698,  276.931197,  274.871948,\n",
       "        270.707499,  264.540305,  256.698125,  247.604003,  237.691982,\n",
       "        227.379549,  217.102264,  207.35497 ,  198.626117,  191.354661,\n",
       "        185.879797,  182.445984,  181.159207,  181.914503,  184.39814 ,\n",
       "        188.159877,  192.726648,  197.702713,  202.746091,  207.498245,\n",
       "        211.575526,  214.594183,  216.268417,  216.463643,  215.242305,\n",
       "        212.848078,  209.704218,  206.349516,  203.372714,  201.28367 ,\n",
       "        200.438352,  200.984059,  202.83795 ,  205.755769,  209.359996,\n",
       "        213.219103,  216.901838,  220.113135,  222.68783 ,  224.690714,\n",
       "        226.282367,  227.666767,  229.013546,  230.409783,  231.877595,\n",
       "        233.394902,  234.892912,  236.305809,  237.567049,  238.648543,\n",
       "        239.551266,  240.290997,  240.871407,  241.303894,  241.614001,\n",
       "        241.85663 ,  242.083004,  242.291352,  242.389257,  242.151319,\n",
       "        241.337524,  239.734062,  237.196307,  233.665365,  229.100841,\n",
       "        223.560215,  217.321834,  211.01184 ,  205.54031 ,  201.83217 ,\n",
       "        200.411253,  201.229711,  203.724953,  207.152648,  210.824681,\n",
       "        214.20573 ,  216.885627,  218.561005,  219.087691,  218.505993,\n",
       "        217.078064,  215.23854 ,  213.50708 ,  212.412762,  212.309268,\n",
       "        213.157118,  214.254203,  214.160615,  211.042236,  203.578962,\n",
       "        191.995992,  178.522413,  166.915333,  160.981012,  163.076595,\n",
       "        173.305153,  189.394604,  207.216851,  222.666783,  233.16212 ,\n",
       "        238.264885,  239.245669,  238.008465,  236.161853,  234.632387,\n",
       "        233.733185,  233.493045,  233.851377,  234.827575,  236.528896,\n",
       "        239.117802,  242.739684,  247.427338,  252.99476 ,  258.963484,\n",
       "        264.689246,  269.476673,  272.766921,  274.288899,  274.116426,\n",
       "        272.624902,  270.398224,  268.074949,  266.22029 ,  265.241893,\n",
       "        265.305573,  266.323503,  267.959135,  269.670192,  270.807445,\n",
       "        270.741874,  268.993806,  265.320383,  259.669039,  252.105594,\n",
       "        242.675575,  231.466791,  218.717916,  204.948806,  191.088814,\n",
       "        178.171034,  167.221917,  158.951244,  153.535532,  150.640679,\n",
       "        149.648677,  149.886757,  150.766145,  151.839948,  152.795866,\n",
       "        153.485018,  153.893132,  154.130133,  154.345858,  154.679597,\n",
       "        155.216401,  155.972177,  156.893319,  157.879688,  158.783032,\n",
       "        159.48419 ,  159.900536,  160.023766,  159.900034,  159.609086,\n",
       "        159.234405,  158.845992,  158.497655,  158.18232 ,  157.878087,\n",
       "        157.547276,  157.180437,  156.768228,  156.55403 ])"
      ]
     },
     "execution_count": 5,
     "metadata": {},
     "output_type": "execute_result"
    }
   ],
   "source": [
    "def readpitch(stri):\n",
    "    fil = basefile+'sound/pitch/'+stri\n",
    "    z = pd.read_csv(fil, sep='   ', engine = 'python',header =0)\n",
    "    return(z)\n",
    "\n",
    "j = numpy.array(readpitch(pitches[0])['F0_Hz'])\n",
    "j"
   ]
  },
  {
   "cell_type": "code",
   "execution_count": 6,
   "metadata": {},
   "outputs": [
    {
     "ename": "NameError",
     "evalue": "name 'read' is not defined",
     "output_type": "error",
     "traceback": [
      "\u001b[0;31m----------------------------------------------\u001b[0m",
      "\u001b[0;31mNameError\u001b[0m    Traceback (most recent call last)",
      "\u001b[0;32m<ipython-input-6-f2411cb88fba>\u001b[0m in \u001b[0;36m<module>\u001b[0;34m()\u001b[0m\n\u001b[1;32m      7\u001b[0m     \u001b[0mx\u001b[0m \u001b[0;34m=\u001b[0m \u001b[0mx\u001b[0m\u001b[0;34m-\u001b[0m\u001b[0;36m1\u001b[0m\u001b[0;34m\u001b[0m\u001b[0m\n\u001b[1;32m      8\u001b[0m     \u001b[0mj\u001b[0m \u001b[0;34m=\u001b[0m \u001b[0mnumpy\u001b[0m\u001b[0;34m.\u001b[0m\u001b[0marray\u001b[0m\u001b[0;34m(\u001b[0m\u001b[0mreadpitch\u001b[0m\u001b[0;34m(\u001b[0m\u001b[0mpitches\u001b[0m\u001b[0;34m[\u001b[0m\u001b[0mx\u001b[0m\u001b[0;34m]\u001b[0m\u001b[0;34m)\u001b[0m\u001b[0;34m[\u001b[0m\u001b[0;34m'F0_Hz'\u001b[0m\u001b[0;34m]\u001b[0m\u001b[0;34m)\u001b[0m\u001b[0;34m\u001b[0m\u001b[0m\n\u001b[0;32m----> 9\u001b[0;31m     \u001b[0ma\u001b[0m \u001b[0;34m=\u001b[0m \u001b[0mread\u001b[0m\u001b[0;34m(\u001b[0m\u001b[0mtracings\u001b[0m\u001b[0;34m[\u001b[0m\u001b[0mi\u001b[0m\u001b[0;34m]\u001b[0m\u001b[0;34m)\u001b[0m\u001b[0;34m\u001b[0m\u001b[0m\n\u001b[0m\u001b[1;32m     10\u001b[0m \u001b[0;31m#     a = a.flatten()\u001b[0m\u001b[0;34m\u001b[0m\u001b[0;34m\u001b[0m\u001b[0m\n\u001b[1;32m     11\u001b[0m     \u001b[0mX\u001b[0m\u001b[0;34m.\u001b[0m\u001b[0mappend\u001b[0m\u001b[0;34m(\u001b[0m\u001b[0mj\u001b[0m\u001b[0;34m)\u001b[0m\u001b[0;34m\u001b[0m\u001b[0m\n",
      "\u001b[0;31mNameError\u001b[0m: name 'read' is not defined"
     ]
    }
   ],
   "source": [
    "X = []\n",
    "Y = []\n",
    "for i in range(len(tracings)):\n",
    "    x = int(returnDetails(tracings[i])['melID'])\n",
    "    if x>16:\n",
    "        x = x-16\n",
    "    x = x-1\n",
    "    j = numpy.array(readpitch(pitches[x])['F0_Hz'])\n",
    "    a = read(tracings[i])\n",
    "#     a = a.flatten()\n",
    "    X.append(j)\n",
    "    Y.append(a)"
   ]
  },
  {
   "cell_type": "code",
   "execution_count": 64,
   "metadata": {},
   "outputs": [],
   "source": [
    "eks = pd.DataFrame(X)\n",
    "way = pd.DataFrame(Y)"
   ]
  },
  {
   "cell_type": "code",
   "execution_count": 95,
   "metadata": {},
   "outputs": [
    {
     "data": {
      "text/plain": [
       "['6.txt',\n",
       " '12.txt',\n",
       " '3.txt',\n",
       " '8.txt',\n",
       " '1.txt',\n",
       " '9.txt',\n",
       " '4.txt',\n",
       " '14.txt',\n",
       " '7.txt',\n",
       " '2.txt',\n",
       " '16.txt',\n",
       " '15.txt',\n",
       " '5.txt',\n",
       " '10.txt',\n",
       " '13.txt',\n",
       " '11.txt']"
      ]
     },
     "execution_count": 95,
     "metadata": {},
     "output_type": "execute_result"
    }
   ],
   "source": [
    "pitches"
   ]
  },
  {
   "cell_type": "code",
   "execution_count": 92,
   "metadata": {},
   "outputs": [
    {
     "name": "stdout",
     "output_type": "stream",
     "text": [
      "209\n",
      "226\n",
      "522\n",
      "305\n",
      "449\n",
      "380\n",
      "211\n",
      "481\n",
      "372\n",
      "236\n",
      "494\n",
      "502\n",
      "220\n",
      "420\n",
      "226\n"
     ]
    }
   ],
   "source": [
    "for i in range(0,15):\n",
    "    print(len(readpitch(pitches[i])))"
   ]
  },
  {
   "cell_type": "code",
   "execution_count": 90,
   "metadata": {},
   "outputs": [
    {
     "name": "stdout",
     "output_type": "stream",
     "text": [
      "(236, 298)\n",
      "(380, 234)\n",
      "(449, 167)\n",
      "(522, 374)\n",
      "(214, 238)\n",
      "(214, 306)\n",
      "(372, 374)\n",
      "(214, 336)\n",
      "(420, 306)\n",
      "(226, 274)\n",
      "(494, 307)\n",
      "(449, 159)\n",
      "(220, 306)\n",
      "(420, 340)\n",
      "(502, 540)\n",
      "(209, 273)\n",
      "(372, 233)\n",
      "(214, 339)\n",
      "(449, 204)\n",
      "(420, 136)\n"
     ]
    }
   ],
   "source": [
    "for z in range(0,20):\n",
    "    i = random.randrange(0,794)\n",
    "    print(len(X[i]),len(Y[i]))"
   ]
  },
  {
   "cell_type": "code",
   "execution_count": 62,
   "metadata": {},
   "outputs": [
    {
     "data": {
      "text/plain": [
       "2646"
      ]
     },
     "execution_count": 62,
     "metadata": {},
     "output_type": "execute_result"
    }
   ],
   "source": [
    "a = read(tracings[i])\n",
    "len(a.flatten())"
   ]
  },
  {
   "cell_type": "code",
   "execution_count": 53,
   "metadata": {},
   "outputs": [
    {
     "data": {
      "text/plain": [
       "array([-210.61 , -220.02 ,  845.182, ..., -284.891,  340.148,  849.13 ])"
      ]
     },
     "execution_count": 53,
     "metadata": {},
     "output_type": "execute_result"
    }
   ],
   "source": [
    "def read(stri):\n",
    "    fil = basefile+'data/datadump/'+stri+'.tsv'\n",
    "    df1=pd.read_table(fil,header=None)\n",
    "    cols=['frame','time','RHX','RHY','RHZ','LHX','LHY','LHZ']\n",
    "    df1.columns=cols\n",
    "    df1 = df1.iloc[:,2:].as_matrix()\n",
    "    return(df1)\n",
    "\n",
    "a = read(tracings[i])\n",
    "a.flatten()"
   ]
  }
 ],
 "metadata": {
  "kernelspec": {
   "display_name": "Python 2",
   "language": "python",
   "name": "python2"
  },
  "language_info": {
   "codemirror_mode": {
    "name": "ipython",
    "version": 2
   },
   "file_extension": ".py",
   "mimetype": "text/x-python",
   "name": "python",
   "nbconvert_exporter": "python",
   "pygments_lexer": "ipython2",
   "version": "2.7.14"
  }
 },
 "nbformat": 4,
 "nbformat_minor": 2
}
