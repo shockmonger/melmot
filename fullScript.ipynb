{
 "cells": [
  {
   "cell_type": "code",
   "execution_count": 209,
   "metadata": {
    "collapsed": false
   },
   "outputs": [],
   "source": [
    "%run funcs.py\n",
    "%matplotlib notebook"
   ]
  },
  {
   "cell_type": "markdown",
   "metadata": {},
   "source": [
    "'''Dataset loading, enumeration of all variables'''"
   ]
  },
  {
   "cell_type": "code",
   "execution_count": 210,
   "metadata": {
    "collapsed": false
   },
   "outputs": [],
   "source": [
    "%run dataset.py"
   ]
  },
  {
   "cell_type": "code",
   "execution_count": 220,
   "metadata": {
    "collapsed": false
   },
   "outputs": [],
   "source": [
    "key,handstrat,participant,melody,sex,age,score,genre,proc,qommax,qommin,qomav,handdistmax,handdistmin,handdistav,zmax,zmin,distlh,distrh = ([] for i in range(19))\n",
    "cols2=['key','handstrat','participant','melody','sex','age','score','genre','proc','qommax','qommin','qomav','handdistmax','handdistmin','handdistav','zmax','zmin','distlh','distrh']\n",
    "\n",
    "\n",
    "for i in range(len(tracings)):\n",
    "    key.append(i)\n",
    "    handstrat.append(int(returnDetails(tracings[i])['typeID']))\n",
    "    partic = int(returnDetails(tracings[i])['partID'])\n",
    "    participant.append(partic)\n",
    "    melID = int(returnDetails(tracings[i])['melID'])\n",
    "    melody.append(melID)\n",
    "    sex.append(list(participants.loc[participants.index[partic],['sex']])[0])\n",
    "    age.append(int(participants.loc[participants.index[partic],['age']]))\n",
    "    score.append(int(participants.loc[participants.index[partic],['scoreMus']]))\n",
    "    if int(melID) in im:\n",
    "        genre.append('im')\n",
    "    elif int(melID) in jo:\n",
    "        genre.append('jo')\n",
    "    elif int(melID) in sc:\n",
    "        genre.append('sc')\n",
    "    elif int(melID) in vo:\n",
    "        genre.append('vo')\n",
    "    if int(melID) <=16:\n",
    "        proc.append('norm')\n",
    "    elif int(melID) >=16:\n",
    "        proc.append('syn')\n",
    "    qommax.append(max(qom(tracings[i])))\n",
    "    qommin.append(min(qom(tracings[i])))\n",
    "    qomav.append(numpy.mean(qom(tracings[i])))\n",
    "    handdistmax.append(max(handdist(tracings[i])))\n",
    "    handdistmin.append(min(handdist(tracings[i])))\n",
    "    handdistav.append(numpy.mean(handdist(tracings[i])))\n",
    "    zmax.append(maxminz(tracings[i])['zmax'])\n",
    "    zmin.append(maxminz(tracings[i])['zmin'])\n",
    "    distlh.append(displrh(tracings[i])['distlh'])\n",
    "    distrh.append(displrh(tracings[i])['distrh'])\n",
    "\n",
    "for i in range(len(key)):\n",
    "    avdataset = pd.DataFrame(zip(key,handstrat,participant,melody,sex,age,score,genre,proc,qommax,qommin,qomav,handdistmax,handdistmin,handdistav,zmax,zmin,distlh,distrh))\n",
    "    avdataset.columns=cols2\n"
   ]
  },
  {
   "cell_type": "code",
   "execution_count": 224,
   "metadata": {
    "collapsed": false
   },
   "outputs": [],
   "source": [
    "avdataset.to_csv('avdataset.csv')"
   ]
  },
  {
   "cell_type": "code",
   "execution_count": null,
   "metadata": {
    "collapsed": false
   },
   "outputs": [],
   "source": []
  },
  {
   "cell_type": "markdown",
   "metadata": {},
   "source": [
    "'''Plots'''\n",
    "\n",
    "#hand distances vs strategies\n",
    "#qom for each genre for each sex\n",
    "#qom for each processing style for each sex\n",
    "#qom per participant\n",
    "#hand distance vs genre\n",
    "#hand distance vs processing style"
   ]
  },
  {
   "cell_type": "code",
   "execution_count": null,
   "metadata": {
    "collapsed": false
   },
   "outputs": [],
   "source": []
  },
  {
   "cell_type": "code",
   "execution_count": null,
   "metadata": {
    "collapsed": false
   },
   "outputs": [],
   "source": []
  },
  {
   "cell_type": "code",
   "execution_count": 8,
   "metadata": {
    "collapsed": false
   },
   "outputs": [
    {
     "data": {
      "text/plain": [
       "''"
      ]
     },
     "execution_count": 8,
     "metadata": {},
     "output_type": "execute_result"
    }
   ],
   "source": [
    "''''''"
   ]
  }
 ],
 "metadata": {
  "kernelspec": {
   "display_name": "Python 2",
   "language": "python",
   "name": "python2"
  },
  "language_info": {
   "codemirror_mode": {
    "name": "ipython",
    "version": 2
   },
   "file_extension": ".py",
   "mimetype": "text/x-python",
   "name": "python",
   "nbconvert_exporter": "python",
   "pygments_lexer": "ipython2",
   "version": "2.7.12"
  }
 },
 "nbformat": 4,
 "nbformat_minor": 0
}
